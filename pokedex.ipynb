{
 "cells": [
  {
   "cell_type": "code",
   "execution_count": 1,
   "metadata": {},
   "outputs": [],
   "source": [
    "import os\n",
    "import io\n",
    "import numpy as np\n",
    "import matplotlib.pyplot as plt\n",
    "from tensorflow.keras.models import Sequential, load_model\n",
    "from tensorflow.keras.layers import Conv2D, MaxPooling2D, Flatten, Dense, BatchNormalization, Dropout, LeakyReLU\n",
    "from tensorflow.keras.preprocessing.image import ImageDataGenerator\n",
    "from tensorflow.keras.utils import load_img, img_to_array      # New import\n",
    "from tensorflow.keras.callbacks import ReduceLROnPlateau, EarlyStopping\n",
    "from ipywidgets import FileUpload, Image, VBox\n",
    "from IPython.display import display\n",
    "\n",
    "dataset_path = \"PokemonData\"\n",
    "img_width, img_height = 150, 150\n",
    "batch_size = 32"
   ]
  },
  {
   "cell_type": "code",
   "execution_count": 2,
   "metadata": {},
   "outputs": [
    {
     "name": "stdout",
     "output_type": "stream",
     "text": [
      "Found 5511 images belonging to 150 classes.\n",
      "Found 1309 images belonging to 150 classes.\n"
     ]
    }
   ],
   "source": [
    "train_datagen = ImageDataGenerator(\n",
    "    rescale=1./255,\n",
    "    shear_range=0.2,\n",
    "    zoom_range=0.2,\n",
    "    horizontal_flip=True,\n",
    "    rotation_range=20,       \n",
    "    width_shift_range=0.2,   \n",
    "    height_shift_range=0.2,  \n",
    "    brightness_range=[0.8, 1.2],\n",
    "    validation_split=0.2\n",
    ")\n",
    "\n",
    "train_generator = train_datagen.flow_from_directory(\n",
    "    dataset_path,\n",
    "    target_size=(img_width, img_height),\n",
    "    batch_size=batch_size,  \n",
    "\n",
    "    class_mode='categorical',\n",
    "    subset='training'\n",
    ")\n",
    "\n",
    "validation_generator = train_datagen.flow_from_directory(  \n",
    "\n",
    "    dataset_path,\n",
    "    target_size=(img_width, img_height),\n",
    "    batch_size=batch_size,\n",
    "    class_mode='categorical',\n",
    "    subset='validation'\n",
    ")"
   ]
  },
  {
   "cell_type": "code",
   "execution_count": 8,
   "metadata": {},
   "outputs": [],
   "source": [
    "# ---- Model Architecture ----\n",
    "model = Sequential([\n",
    "    Conv2D(32, (3, 3), activation=LeakyReLU(alpha=0.1), input_shape=(img_width, img_height, 3)),\n",
    "    BatchNormalization(),\n",
    "    MaxPooling2D((2, 2)),\n",
    "    Conv2D(64, (3, 3), activation=LeakyReLU(alpha=0.1)),\n",
    "    BatchNormalization(),\n",
    "    MaxPooling2D((2, 2)),\n",
    "    Conv2D(128, (3, 3), activation=LeakyReLU(alpha=0.1)),\n",
    "    BatchNormalization(),\n",
    "    MaxPooling2D((2, 2)),\n",
    "    Conv2D(256, (3, 3), activation=LeakyReLU(alpha=0.1)),\n",
    "    BatchNormalization(),\n",
    "    MaxPooling2D((2, 2)),\n",
    "    Conv2D(512, (3, 3), activation=LeakyReLU(alpha=0.1)), # Increased number of filters\n",
    "    BatchNormalization(),\n",
    "    MaxPooling2D((2, 2)),\n",
    "    Flatten(),\n",
    "    Dense(512, activation=LeakyReLU(alpha=0.1)),  # Added another dense layer\n",
    "    BatchNormalization(),\n",
    "    Dropout(0.5),             \n",
    "    Dense(150, activation='softmax') \n",
    "])\n",
    "\n",
    "# ---- Model Compilation and Training ----\n",
    "model.compile(optimizer='adam', loss='categorical_crossentropy', metrics=['accuracy'])\n",
    "\n",
    "reduce_lr = ReduceLROnPlateau(monitor='val_loss', factor=0.2, patience=5, min_lr=0.001)  \n",
    "\n",
    "early_stopping = EarlyStopping(monitor='val_loss', patience=10, restore_best_weights=True)  \n",
    "\n"
   ]
  },
  {
   "cell_type": "code",
   "execution_count": 9,
   "metadata": {},
   "outputs": [
    {
     "name": "stdout",
     "output_type": "stream",
     "text": [
      "Epoch 1/30\n",
      "172/172 [==============================] - 152s 873ms/step - loss: 5.0150 - accuracy: 0.0469 - val_loss: 5.8877 - val_accuracy: 0.0156 - lr: 0.0010\n",
      "Epoch 2/30\n",
      "172/172 [==============================] - 109s 632ms/step - loss: 4.0568 - accuracy: 0.1007 - val_loss: 5.0521 - val_accuracy: 0.0383 - lr: 0.0010\n",
      "Epoch 3/30\n",
      "172/172 [==============================] - 109s 634ms/step - loss: 3.5916 - accuracy: 0.1568 - val_loss: 3.2335 - val_accuracy: 0.2000 - lr: 0.0010\n",
      "Epoch 4/30\n",
      "172/172 [==============================] - 109s 630ms/step - loss: 3.2027 - accuracy: 0.2134 - val_loss: 3.0113 - val_accuracy: 0.2516 - lr: 0.0010\n",
      "Epoch 5/30\n",
      "172/172 [==============================] - 109s 631ms/step - loss: 2.9842 - accuracy: 0.2555 - val_loss: 2.6760 - val_accuracy: 0.3164 - lr: 0.0010\n",
      "Epoch 6/30\n",
      "172/172 [==============================] - 110s 640ms/step - loss: 2.7478 - accuracy: 0.2957 - val_loss: 2.7806 - val_accuracy: 0.2977 - lr: 0.0010\n",
      "Epoch 7/30\n",
      "172/172 [==============================] - 110s 637ms/step - loss: 2.5798 - accuracy: 0.3353 - val_loss: 2.6651 - val_accuracy: 0.3359 - lr: 0.0010\n",
      "Epoch 8/30\n",
      "172/172 [==============================] - 110s 638ms/step - loss: 2.3712 - accuracy: 0.3833 - val_loss: 2.3305 - val_accuracy: 0.4031 - lr: 0.0010\n",
      "Epoch 9/30\n",
      "172/172 [==============================] - 110s 640ms/step - loss: 2.2577 - accuracy: 0.4035 - val_loss: 2.2123 - val_accuracy: 0.4414 - lr: 0.0010\n",
      "Epoch 10/30\n",
      "172/172 [==============================] - 111s 642ms/step - loss: 2.1427 - accuracy: 0.4431 - val_loss: 2.1567 - val_accuracy: 0.4453 - lr: 0.0010\n",
      "Epoch 11/30\n",
      "172/172 [==============================] - 111s 644ms/step - loss: 2.0413 - accuracy: 0.4525 - val_loss: 2.1970 - val_accuracy: 0.4453 - lr: 0.0010\n",
      "Epoch 12/30\n",
      "172/172 [==============================] - 111s 643ms/step - loss: 1.9024 - accuracy: 0.4851 - val_loss: 2.0590 - val_accuracy: 0.4797 - lr: 0.0010\n",
      "Epoch 13/30\n",
      "172/172 [==============================] - 111s 643ms/step - loss: 1.7925 - accuracy: 0.5233 - val_loss: 2.1798 - val_accuracy: 0.4547 - lr: 0.0010\n",
      "Epoch 14/30\n",
      "172/172 [==============================] - 110s 641ms/step - loss: 1.7536 - accuracy: 0.5333 - val_loss: 1.8812 - val_accuracy: 0.5242 - lr: 0.0010\n",
      "Epoch 15/30\n",
      "172/172 [==============================] - 110s 640ms/step - loss: 1.6439 - accuracy: 0.5492 - val_loss: 1.7066 - val_accuracy: 0.5453 - lr: 0.0010\n",
      "Epoch 16/30\n",
      "172/172 [==============================] - 110s 637ms/step - loss: 1.5504 - accuracy: 0.5735 - val_loss: 1.9327 - val_accuracy: 0.5008 - lr: 0.0010\n",
      "Epoch 17/30\n",
      "172/172 [==============================] - 109s 635ms/step - loss: 1.4963 - accuracy: 0.5908 - val_loss: 1.9908 - val_accuracy: 0.4938 - lr: 0.0010\n",
      "Epoch 18/30\n",
      "172/172 [==============================] - 110s 637ms/step - loss: 1.4337 - accuracy: 0.5997 - val_loss: 1.7829 - val_accuracy: 0.5398 - lr: 0.0010\n",
      "Epoch 19/30\n",
      "172/172 [==============================] - 110s 641ms/step - loss: 1.3712 - accuracy: 0.6189 - val_loss: 1.8206 - val_accuracy: 0.5414 - lr: 0.0010\n",
      "Epoch 20/30\n",
      "172/172 [==============================] - 110s 641ms/step - loss: 1.3161 - accuracy: 0.6335 - val_loss: 1.6695 - val_accuracy: 0.5672 - lr: 0.0010\n",
      "Epoch 21/30\n",
      "172/172 [==============================] - 109s 634ms/step - loss: 1.3305 - accuracy: 0.6255 - val_loss: 1.6485 - val_accuracy: 0.5859 - lr: 0.0010\n",
      "Epoch 22/30\n",
      "172/172 [==============================] - 111s 642ms/step - loss: 1.2570 - accuracy: 0.6492 - val_loss: 1.7004 - val_accuracy: 0.5703 - lr: 0.0010\n",
      "Epoch 23/30\n",
      "172/172 [==============================] - 110s 638ms/step - loss: 1.2024 - accuracy: 0.6580 - val_loss: 1.6191 - val_accuracy: 0.5813 - lr: 0.0010\n",
      "Epoch 24/30\n",
      "172/172 [==============================] - 109s 636ms/step - loss: 1.1638 - accuracy: 0.6662 - val_loss: 1.7895 - val_accuracy: 0.5469 - lr: 0.0010\n",
      "Epoch 25/30\n",
      "172/172 [==============================] - 110s 640ms/step - loss: 1.1168 - accuracy: 0.6815 - val_loss: 1.7327 - val_accuracy: 0.5742 - lr: 0.0010\n",
      "Epoch 26/30\n",
      "172/172 [==============================] - 109s 635ms/step - loss: 1.1129 - accuracy: 0.6795 - val_loss: 1.6731 - val_accuracy: 0.5891 - lr: 0.0010\n",
      "Epoch 27/30\n",
      "172/172 [==============================] - 110s 638ms/step - loss: 1.0411 - accuracy: 0.7052 - val_loss: 1.4812 - val_accuracy: 0.6383 - lr: 0.0010\n",
      "Epoch 28/30\n",
      "172/172 [==============================] - 110s 639ms/step - loss: 1.0311 - accuracy: 0.7074 - val_loss: 1.6974 - val_accuracy: 0.6031 - lr: 0.0010\n",
      "Epoch 29/30\n",
      "172/172 [==============================] - 109s 636ms/step - loss: 1.0045 - accuracy: 0.7076 - val_loss: 1.4212 - val_accuracy: 0.6508 - lr: 0.0010\n",
      "Epoch 30/30\n",
      "172/172 [==============================] - 112s 651ms/step - loss: 0.9792 - accuracy: 0.7235 - val_loss: 1.8158 - val_accuracy: 0.5773 - lr: 0.0010\n"
     ]
    }
   ],
   "source": [
    "history = model.fit(\n",
    "    train_generator,\n",
    "    steps_per_epoch=train_generator.samples // batch_size,\n",
    "    epochs=30,             \n",
    "    validation_data=validation_generator,\n",
    "    validation_steps=validation_generator.samples // batch_size,  \n",
    "\n",
    "    callbacks=[reduce_lr, early_stopping]\n",
    ")"
   ]
  },
  {
   "cell_type": "code",
   "execution_count": 10,
   "metadata": {},
   "outputs": [
    {
     "name": "stderr",
     "output_type": "stream",
     "text": [
      "c:\\Users\\Vincent\\AppData\\Local\\Programs\\Python\\Python38\\lib\\site-packages\\keras\\src\\engine\\training.py:3000: UserWarning: You are saving your model as an HDF5 file via `model.save()`. This file format is considered legacy. We recommend using instead the native Keras format, e.g. `model.save('my_model.keras')`.\n",
      "  saving_api.save_model(\n"
     ]
    }
   ],
   "source": [
    "model.save(\"pokemon_cnn_model_improved.h5\")"
   ]
  },
  {
   "cell_type": "code",
   "execution_count": 6,
   "metadata": {},
   "outputs": [
    {
     "data": {
      "application/vnd.jupyter.widget-view+json": {
       "model_id": "2ae9e882f45744b28ba673b7e8590284",
       "version_major": 2,
       "version_minor": 0
      },
      "text/plain": [
       "VBox(children=(FileUpload(value=(), accept='image/*', description='Upload'),))"
      ]
     },
     "metadata": {},
     "output_type": "display_data"
    }
   ],
   "source": [
    "import os\n",
    "import io\n",
    "import numpy as np\n",
    "import matplotlib.pyplot as plt\n",
    "import tensorflow as tf\n",
    "from tensorflow.keras.models import load_model\n",
    "from tensorflow.keras.preprocessing import image\n",
    "from ipywidgets import FileUpload, Image, VBox\n",
    "from IPython.display import display\n",
    "\n",
    "# Load the saved model\n",
    "model = load_model(\"pokemon_cnn_model_improved.h5\")\n",
    "\n",
    "# Path to the directory containing the Pokémon images\n",
    "dataset_path = \"PokemonData\"\n",
    "\n",
    "# Define image dimensions\n",
    "img_width, img_height = 150, 150\n",
    "\n",
    "# Function to predict Pokémon from an image file and return the predicted class along with its image\n",
    "@tf.function(reduce_retracing=True) \n",
    "def predict_pokemon_with_image(img_array):\n",
    "    img_array = tf.image.resize(img_array, [img_width, img_height])\n",
    "    img_array = tf.expand_dims(img_array, axis=0)\n",
    "    img_array = img_array / 255.0  \n",
    "    return img_array\n",
    "    \n",
    "# Function to handle the uploaded image and display predictions\n",
    "def on_upload_change(change):\n",
    "    uploaded_file = change['new']\n",
    "    if uploaded_file:\n",
    "        content = uploaded_file[0]['content']\n",
    "        img = load_img(io.BytesIO(content))\n",
    "        img_array = img_to_array(img)\n",
    "\n",
    "        # Predict and display the results\n",
    "        img_array = predict_pokemon_with_image(img_array)\n",
    "        prediction = model.predict(img_array)\n",
    "        predicted_class = np.argmax(prediction)\n",
    "        \n",
    "        # Get the label (Pokémon name) and similarity percentage of the predicted class\n",
    "        predicted_pokemon = train_generator.class_indices\n",
    "        predicted_pokemon = dict((v,k) for k,v in predicted_pokemon.items())\n",
    "        predicted_pokemon = predicted_pokemon[predicted_class]\n",
    "        similarity_percentage = round(np.max(prediction[0]) * 100, 2)  # Get percentage and round to 2 decimal places\n",
    "\n",
    "        # Load the image of the predicted Pokémon class\n",
    "        predicted_image_path = os.path.join(dataset_path, predicted_pokemon, os.listdir(os.path.join(dataset_path, predicted_pokemon))[0])\n",
    "        predicted_img = load_img(predicted_image_path, target_size=(img_width, img_height))\n",
    "\n",
    "        # Plot the images\n",
    "        fig, axes = plt.subplots(1, 2, figsize=(10, 5))\n",
    "        axes[0].imshow(img)\n",
    "        axes[0].set_title(\"Uploaded Image\")\n",
    "        axes[0].axis('off')\n",
    "        axes[1].imshow(predicted_img)\n",
    "        axes[1].set_title(f\"Predicted Pokémon: {predicted_pokemon} ({similarity_percentage}%)\") # Add similarity percentage\n",
    "        axes[1].axis('off')\n",
    "        plt.show()\n",
    "\n",
    "\n",
    "upload_button = FileUpload(accept='image/*', multiple=False)\n",
    "upload_button.observe(on_upload_change, names='value')\n",
    "\n",
    "\n",
    "display(VBox([upload_button]))\n"
   ]
  }
 ],
 "metadata": {
  "kernelspec": {
   "display_name": "Python 3",
   "language": "python",
   "name": "python3"
  },
  "language_info": {
   "codemirror_mode": {
    "name": "ipython",
    "version": 3
   },
   "file_extension": ".py",
   "mimetype": "text/x-python",
   "name": "python",
   "nbconvert_exporter": "python",
   "pygments_lexer": "ipython3",
   "version": "3.8.0"
  }
 },
 "nbformat": 4,
 "nbformat_minor": 2
}
